{
 "cells": [
  {
   "cell_type": "code",
   "execution_count": 199,
   "metadata": {
    "collapsed": false
   },
   "outputs": [],
   "source": [
    "# Get the data\n",
    "import numpy as np\n",
    "import pickle\n",
    "\n",
    "path = 'C://Users/ewmal/PycharmProjects/pyimages/linescan_dz_tuples.pkl'\n",
    "\n",
    "combined = pickle.load(open(path, 'rb'))\n",
    "linescans, dz = zip(*combined)"
   ]
  },
  {
   "cell_type": "code",
   "execution_count": 391,
   "metadata": {
    "collapsed": false
   },
   "outputs": [
    {
     "name": "stdout",
     "output_type": "stream",
     "text": [
      "Removed 2098 datapoints < -1\nNew y shape:  (3982, 1)\n"
     ]
    },
    {
     "name": "stdout",
     "output_type": "stream",
     "text": [
      "New x shape:  (3982, 9)\n"
     ]
    },
    {
     "data": {
      "text/plain": [
       "'\\n# plot linescans and x for visual comparison\\nplt.plot(range(linescans.shape[1]), linescans[0])\\nplt.show()\\nplt.plot(range(x.shape[1]), x[0])  # <<< obsolete if pca decomposition\\nplt.show()\\n'"
      ]
     },
     "execution_count": 391,
     "metadata": {},
     "output_type": "execute_result"
    }
   ],
   "source": [
    "# Preprocess\n",
    "import sklearn.preprocessing as pre\n",
    "import matplotlib.pyplot as plt\n",
    "from sklearn.decomposition import PCA\n",
    "\n",
    "x = np.array(linescans)\n",
    "y = np.array(dz).reshape(-1, 1)  # sklearn likes 1d better than column vector\n",
    "\n",
    "# remove bad data (dz < -1)\n",
    "good_ixs = np.where(y > -1)[0]\n",
    "x = x[[good_ixs]]\n",
    "y = y[[good_ixs]]\n",
    "print('Removed %s datapoints < -1' % (len(dz)-len(y.flatten())))\n",
    "print('New y shape: ', y.shape)\n",
    "\n",
    "# normalize\n",
    "x = pre.normalize(x, axis=1)  # don't try normalizing y, destroys accuracy\n",
    "x = np.subtract(x, np.mean(x, axis=0))  # center mean of x on 0 (y is already centered)\n",
    "# y = pre.normalize(y, axis=1)\n",
    "\n",
    "# try pca (has basically the same performance, slightly worse <.2, better <.3)\n",
    "pca = PCA(n_components=9)  # 9 works best empirically\n",
    "x = pca.fit_transform(x)\n",
    "print('New x shape: ', x.shape)\n",
    "\n",
    "\n",
    "\"\"\"\n",
    "# plot linescans and x for visual comparison\n",
    "plt.plot(range(linescans.shape[1]), linescans[0])\n",
    "plt.show()\n",
    "plt.plot(range(x.shape[1]), x[0])  # <<< obsolete if pca decomposition\n",
    "plt.show()\n",
    "\"\"\"\n"
   ]
  },
  {
   "cell_type": "code",
   "execution_count": 392,
   "metadata": {
    "collapsed": true
   },
   "outputs": [
    {
     "name": "stdout",
     "output_type": "stream",
     "text": [
      "Done!\n"
     ]
    }
   ],
   "source": [
    "# SVR\n",
    "from sklearn.svm import SVR\n",
    "\n",
    "\n",
    "def svr():\n",
    "    # train/test split\n",
    "    split = int(y.shape[0] * 0.8)\n",
    "    x_train, x_test = x[:split], x[split:]\n",
    "    y_train, y_test = y[:split], y[split:]\n",
    "    \n",
    "    # fit SVM\n",
    "    svrm = SVR(kernel='rbf', C=5e4, gamma=0.02)  # best: C=5e3,gamma=0.14/C=5e4, gamma=0.02\n",
    "    svr_fit = svrm.fit(x_train, y_train.flatten())\n",
    "    \n",
    "    # make predictions on train and test sets\n",
    "    y_fitted = svr_fit.predict(x_train)\n",
    "    y_predicted = svr_fit.predict(x_test)\n",
    "    print('Done!')\n",
    "    \n",
    "    return y_fitted, y_predicted, y_train, y_test\n",
    "\n",
    "\n",
    "y_fit, y_pred, y_train, y_test = svr()"
   ]
  },
  {
   "cell_type": "code",
   "execution_count": 393,
   "metadata": {},
   "outputs": [
    {
     "name": "stdout",
     "output_type": "stream",
     "text": [
      "R2 train score:  0.972421335992\nR2 test score:  0.978973167143\nPercent within +/-0.2 error:  0.7365119196988708\nPercent within +/-0.25 error:  0.8582183186951067\nPercent within +/-0.3 error:  0.9548306148055207\n"
     ]
    },
    {
     "data": {
      "image/png": "[encoded data removed]",
      "text/plain": [
       "<matplotlib.figure.Figure at 0x29421de04e0>"
      ]
     },
     "metadata": {},
     "output_type": "display_data"
    }
   ],
   "source": [
    "# Evaluation\n",
    "import matplotlib.pyplot as plt\n",
    "import sklearn.metrics as met\n",
    "\n",
    "\n",
    "def r2_evaluate(y_true_train, y_true_test, y_predicted, y_fitted, thresholds=(0.2, 0.25, 0.3)):\n",
    "    # R**2 score\n",
    "    fit_score = met.r2_score(y_true=y_true_train, y_pred=y_fitted)\n",
    "    pred_score = met.r2_score(y_true=y_true_test, y_pred=y_predicted)\n",
    "    print('R2 train score: ', fit_score)\n",
    "    print('R2 test score: ', pred_score)\n",
    "    \n",
    "    # Histogram\n",
    "    error = y_true_test.flatten()-y_pred\n",
    "    for threshold in thresholds:\n",
    "        low_error_percent = len([err for err in abs(error) if err <= threshold])/len(error)\n",
    "        print('Percent within +/-%s error: ' % threshold, low_error_percent)\n",
    "    plt.hist(error, bins=20)\n",
    "    plt.xlim((-.5, .5))\n",
    "    plt.show()\n",
    "\n",
    "\n",
    "r2_evaluate(y_train, y_test, y_pred, y_fit)"
   ]
  },
  {
   "cell_type": "markdown",
   "metadata": {},
   "source": [
    "Best I was able to get was using pca and svr:\n",
    "R2 train score:  0.972400535307\n",
    "R2 test score:  0.979066033186\n",
    "Percent within +/-0.2 error:  0.7365119196988708\n",
    "Percent within +/-0.25 error:  0.8582183186951067\n",
    "Percent within +/-0.3 error:  0.954830614805520\n",
    "C=5e4,gamma=0.01\n",
    "normalizing x but not y\n",
    "n_components = 9 for pca\n",
    "\n",
    "I'm going to try some deep learning techniques, see below...\n"
   ]
  },
  {
   "cell_type": "code",
   "execution_count": 339,
   "metadata": {},
   "outputs": [],
   "source": [
    "import Autoencoder as vae\n",
    "import tensorflow as tf\n",
    "\n",
    "y, z, loss, neg_marginal_likelihood, KL_divergence = vae.autoencoder(x_hat, x, dim_img, dim_z, n_hidden, keep_prob)"
   ]
  },
  {
   "cell_type": "code",
   "execution_count": 109,
   "metadata": {},
   "outputs": [
    {
     "ename": "KeyboardInterrupt",
     "evalue": "",
     "traceback": [
      "\u001b[1;31m---------------------------------------------------------------------------\u001b[0m",
      "\u001b[1;31mKeyboardInterrupt\u001b[0m                         Traceback (most recent call last)",
      "\u001b[1;32m<ipython-input-109-5cfc740c49b7>\u001b[0m in \u001b[0;36m<module>\u001b[1;34m()\u001b[0m\n\u001b[0;32m     11\u001b[0m \u001b[1;31m# fit SVM\u001b[0m\u001b[1;33m\u001b[0m\u001b[1;33m\u001b[0m\u001b[0m\n\u001b[0;32m     12\u001b[0m \u001b[0msvr\u001b[0m \u001b[1;33m=\u001b[0m \u001b[0mSVR\u001b[0m\u001b[1;33m(\u001b[0m\u001b[0mkernel\u001b[0m\u001b[1;33m=\u001b[0m\u001b[1;34m'rbf'\u001b[0m\u001b[1;33m,\u001b[0m \u001b[0mC\u001b[0m\u001b[1;33m=\u001b[0m\u001b[1;36m1e3\u001b[0m\u001b[1;33m,\u001b[0m \u001b[0mgamma\u001b[0m\u001b[1;33m=\u001b[0m\u001b[1;36m0.1\u001b[0m\u001b[1;33m)\u001b[0m\u001b[1;33m\u001b[0m\u001b[0m\n\u001b[1;32m---> 13\u001b[1;33m \u001b[0my_pred\u001b[0m \u001b[1;33m=\u001b[0m \u001b[0msvr\u001b[0m\u001b[1;33m.\u001b[0m\u001b[0mfit\u001b[0m\u001b[1;33m(\u001b[0m\u001b[0mx_train\u001b[0m\u001b[1;33m,\u001b[0m \u001b[0my_train\u001b[0m\u001b[1;33m.\u001b[0m\u001b[0mflatten\u001b[0m\u001b[1;33m(\u001b[0m\u001b[1;33m)\u001b[0m\u001b[1;33m)\u001b[0m\u001b[1;33m\u001b[0m\u001b[0m\n\u001b[0m\u001b[0;32m     14\u001b[0m \u001b[0mprint\u001b[0m\u001b[1;33m(\u001b[0m\u001b[0my_pred\u001b[0m\u001b[1;33m.\u001b[0m\u001b[0mpredict\u001b[0m\u001b[1;33m(\u001b[0m\u001b[0mx_train\u001b[0m\u001b[1;33m)\u001b[0m\u001b[1;33m.\u001b[0m\u001b[0mshape\u001b[0m\u001b[1;33m)\u001b[0m\u001b[1;33m\u001b[0m\u001b[0m\n\u001b[0;32m     15\u001b[0m \u001b[0mplt\u001b[0m\u001b[1;33m.\u001b[0m\u001b[0mscatter\u001b[0m\u001b[1;33m(\u001b[0m\u001b[0mrange\u001b[0m\u001b[1;33m(\u001b[0m\u001b[0mlen\u001b[0m\u001b[1;33m(\u001b[0m\u001b[0my_train\u001b[0m\u001b[1;33m)\u001b[0m\u001b[1;33m)\u001b[0m\u001b[1;33m,\u001b[0m \u001b[0my_train\u001b[0m\u001b[1;33m)\u001b[0m\u001b[1;33m\u001b[0m\u001b[0m\n",
      "\u001b[1;32mC:\\ProgramData\\Anaconda3\\lib\\site-packages\\sklearn\\svm\\base.py\u001b[0m in \u001b[0;36mfit\u001b[1;34m(self, X, y, sample_weight)\u001b[0m\n\u001b[0;32m    185\u001b[0m \u001b[1;33m\u001b[0m\u001b[0m\n\u001b[0;32m    186\u001b[0m         \u001b[0mseed\u001b[0m \u001b[1;33m=\u001b[0m \u001b[0mrnd\u001b[0m\u001b[1;33m.\u001b[0m\u001b[0mrandint\u001b[0m\u001b[1;33m(\u001b[0m\u001b[0mnp\u001b[0m\u001b[1;33m.\u001b[0m\u001b[0miinfo\u001b[0m\u001b[1;33m(\u001b[0m\u001b[1;34m'i'\u001b[0m\u001b[1;33m)\u001b[0m\u001b[1;33m.\u001b[0m\u001b[0mmax\u001b[0m\u001b[1;33m)\u001b[0m\u001b[1;33m\u001b[0m\u001b[0m\n\u001b[1;32m--> 187\u001b[1;33m         \u001b[0mfit\u001b[0m\u001b[1;33m(\u001b[0m\u001b[0mX\u001b[0m\u001b[1;33m,\u001b[0m \u001b[0my\u001b[0m\u001b[1;33m,\u001b[0m \u001b[0msample_weight\u001b[0m\u001b[1;33m,\u001b[0m \u001b[0msolver_type\u001b[0m\u001b[1;33m,\u001b[0m \u001b[0mkernel\u001b[0m\u001b[1;33m,\u001b[0m \u001b[0mrandom_seed\u001b[0m\u001b[1;33m=\u001b[0m\u001b[0mseed\u001b[0m\u001b[1;33m)\u001b[0m\u001b[1;33m\u001b[0m\u001b[0m\n\u001b[0m\u001b[0;32m    188\u001b[0m         \u001b[1;31m# see comment on the other call to np.iinfo in this file\u001b[0m\u001b[1;33m\u001b[0m\u001b[1;33m\u001b[0m\u001b[0m\n\u001b[0;32m    189\u001b[0m \u001b[1;33m\u001b[0m\u001b[0m\n",
      "\u001b[1;32mC:\\ProgramData\\Anaconda3\\lib\\site-packages\\sklearn\\svm\\base.py\u001b[0m in \u001b[0;36m_dense_fit\u001b[1;34m(self, X, y, sample_weight, solver_type, kernel, random_seed)\u001b[0m\n\u001b[0;32m    252\u001b[0m                 \u001b[0mcache_size\u001b[0m\u001b[1;33m=\u001b[0m\u001b[0mself\u001b[0m\u001b[1;33m.\u001b[0m\u001b[0mcache_size\u001b[0m\u001b[1;33m,\u001b[0m \u001b[0mcoef0\u001b[0m\u001b[1;33m=\u001b[0m\u001b[0mself\u001b[0m\u001b[1;33m.\u001b[0m\u001b[0mcoef0\u001b[0m\u001b[1;33m,\u001b[0m\u001b[1;33m\u001b[0m\u001b[0m\n\u001b[0;32m    253\u001b[0m                 \u001b[0mgamma\u001b[0m\u001b[1;33m=\u001b[0m\u001b[0mself\u001b[0m\u001b[1;33m.\u001b[0m\u001b[0m_gamma\u001b[0m\u001b[1;33m,\u001b[0m \u001b[0mepsilon\u001b[0m\u001b[1;33m=\u001b[0m\u001b[0mself\u001b[0m\u001b[1;33m.\u001b[0m\u001b[0mepsilon\u001b[0m\u001b[1;33m,\u001b[0m\u001b[1;33m\u001b[0m\u001b[0m\n\u001b[1;32m--> 254\u001b[1;33m                 max_iter=self.max_iter, random_seed=random_seed)\n\u001b[0m\u001b[0;32m    255\u001b[0m \u001b[1;33m\u001b[0m\u001b[0m\n\u001b[0;32m    256\u001b[0m         \u001b[0mself\u001b[0m\u001b[1;33m.\u001b[0m\u001b[0m_warn_from_fit_status\u001b[0m\u001b[1;33m(\u001b[0m\u001b[1;33m)\u001b[0m\u001b[1;33m\u001b[0m\u001b[0m\n",
      "\u001b[1;31mKeyboardInterrupt\u001b[0m: "
     ],
     "output_type": "error"
    }
   ],
   "source": [
    ""
   ]
  }
 ],
 "metadata": {
  "kernelspec": {
   "display_name": "Python 2",
   "language": "python",
   "name": "python2"
  },
  "language_info": {
   "codemirror_mode": {
    "name": "ipython",
    "version": 2
   },
   "file_extension": ".py",
   "mimetype": "text/x-python",
   "name": "python",
   "nbconvert_exporter": "python",
   "pygments_lexer": "ipython2",
   "version": "2.7.6"
  }
 },
 "nbformat": 4,
 "nbformat_minor": 0
}
